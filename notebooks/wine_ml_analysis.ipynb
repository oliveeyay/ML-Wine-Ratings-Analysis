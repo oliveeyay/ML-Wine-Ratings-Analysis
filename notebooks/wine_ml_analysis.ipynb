{
 "cells": [
  {
   "cell_type": "code",
   "execution_count": 1,
   "metadata": {
    "_cell_guid": "8cf149aa-f703-4ca9-9235-0957bee89c2c",
    "_uuid": "a4a0d40ad23e45c19bd22030178d1687004131ef"
   },
   "outputs": [
    {
     "name": "stdout",
     "output_type": "stream",
     "text": [
      "winemag-data-130k-v2.csv\n",
      "winemag-data-130k-v2.json\n",
      "winemag-data_first150k.csv\n",
      "\n"
     ]
    }
   ],
   "source": [
    "# This Python 3 environment comes with many helpful analytics libraries installed\n",
    "# It is defined by the kaggle/python docker image: https://github.com/kaggle/docker-python\n",
    "# For example, here's several helpful packages to load in \n",
    "\n",
    "import numpy as np # linear algebra\n",
    "import pandas as pd # data processing, CSV file I/O (e.g. pd.read_csv)\n",
    "\n",
    "# Plot / Graph stuffs\n",
    "import seaborn as sns\n",
    "import matplotlib.pyplot as plt\n",
    "\n",
    "from sklearn.feature_extraction.text import CountVectorizer, TfidfVectorizer\n",
    "from sklearn.model_selection import train_test_split\n",
    "from sklearn.ensemble import RandomForestClassifier\n",
    "from sklearn.metrics import confusion_matrix, classification_report\n",
    "\n",
    "# Input data files are available in the \"../input/\" directory.\n",
    "# For example, running this (by clicking run or pressing Shift+Enter) will list the files in the input directory\n",
    "\n",
    "from subprocess import check_output\n",
    "print(check_output([\"ls\", \"../input\"]).decode(\"utf8\"))"
   ]
  },
  {
   "cell_type": "markdown",
   "metadata": {
    "_cell_guid": "84cc68de-230b-4bf3-bbbb-6b656faa3a0b",
    "_uuid": "a40f2de1eee684e0d33e42f7c98d893912d9bf5b"
   },
   "source": [
    "## Initial Overview of Data\n",
    "I plan to parse the data and view it in its most raw form."
   ]
  },
  {
   "cell_type": "code",
   "execution_count": 2,
   "metadata": {
    "_cell_guid": "0459917c-0ee0-4755-9dfc-6425d78560c3",
    "_uuid": "f6439bff1c7bc4b01af82499df5cde05a5dc474b"
   },
   "outputs": [
    {
     "name": "stdout",
     "output_type": "stream",
     "text": [
      "('Length of dataframe before duplicates are removed:', 150930)\n"
     ]
    },
    {
     "data": {
      "text/html": [
       "<div>\n",
       "<style scoped>\n",
       "    .dataframe tbody tr th:only-of-type {\n",
       "        vertical-align: middle;\n",
       "    }\n",
       "\n",
       "    .dataframe tbody tr th {\n",
       "        vertical-align: top;\n",
       "    }\n",
       "\n",
       "    .dataframe thead th {\n",
       "        text-align: right;\n",
       "    }\n",
       "</style>\n",
       "<table border=\"1\" class=\"dataframe\">\n",
       "  <thead>\n",
       "    <tr style=\"text-align: right;\">\n",
       "      <th></th>\n",
       "      <th>Unnamed: 0</th>\n",
       "      <th>country</th>\n",
       "      <th>description</th>\n",
       "      <th>designation</th>\n",
       "      <th>points</th>\n",
       "      <th>price</th>\n",
       "      <th>province</th>\n",
       "      <th>region_1</th>\n",
       "      <th>region_2</th>\n",
       "      <th>variety</th>\n",
       "      <th>winery</th>\n",
       "    </tr>\n",
       "  </thead>\n",
       "  <tbody>\n",
       "    <tr>\n",
       "      <th>0</th>\n",
       "      <td>0</td>\n",
       "      <td>US</td>\n",
       "      <td>This tremendous 100% varietal wine hails from ...</td>\n",
       "      <td>Martha's Vineyard</td>\n",
       "      <td>96</td>\n",
       "      <td>235.0</td>\n",
       "      <td>California</td>\n",
       "      <td>Napa Valley</td>\n",
       "      <td>Napa</td>\n",
       "      <td>Cabernet Sauvignon</td>\n",
       "      <td>Heitz</td>\n",
       "    </tr>\n",
       "    <tr>\n",
       "      <th>1</th>\n",
       "      <td>1</td>\n",
       "      <td>Spain</td>\n",
       "      <td>Ripe aromas of fig, blackberry and cassis are ...</td>\n",
       "      <td>Carodorum Selección Especial Reserva</td>\n",
       "      <td>96</td>\n",
       "      <td>110.0</td>\n",
       "      <td>Northern Spain</td>\n",
       "      <td>Toro</td>\n",
       "      <td>NaN</td>\n",
       "      <td>Tinta de Toro</td>\n",
       "      <td>Bodega Carmen Rodríguez</td>\n",
       "    </tr>\n",
       "    <tr>\n",
       "      <th>2</th>\n",
       "      <td>2</td>\n",
       "      <td>US</td>\n",
       "      <td>Mac Watson honors the memory of a wine once ma...</td>\n",
       "      <td>Special Selected Late Harvest</td>\n",
       "      <td>96</td>\n",
       "      <td>90.0</td>\n",
       "      <td>California</td>\n",
       "      <td>Knights Valley</td>\n",
       "      <td>Sonoma</td>\n",
       "      <td>Sauvignon Blanc</td>\n",
       "      <td>Macauley</td>\n",
       "    </tr>\n",
       "    <tr>\n",
       "      <th>3</th>\n",
       "      <td>3</td>\n",
       "      <td>US</td>\n",
       "      <td>This spent 20 months in 30% new French oak, an...</td>\n",
       "      <td>Reserve</td>\n",
       "      <td>96</td>\n",
       "      <td>65.0</td>\n",
       "      <td>Oregon</td>\n",
       "      <td>Willamette Valley</td>\n",
       "      <td>Willamette Valley</td>\n",
       "      <td>Pinot Noir</td>\n",
       "      <td>Ponzi</td>\n",
       "    </tr>\n",
       "    <tr>\n",
       "      <th>4</th>\n",
       "      <td>4</td>\n",
       "      <td>France</td>\n",
       "      <td>This is the top wine from La Bégude, named aft...</td>\n",
       "      <td>La Brûlade</td>\n",
       "      <td>95</td>\n",
       "      <td>66.0</td>\n",
       "      <td>Provence</td>\n",
       "      <td>Bandol</td>\n",
       "      <td>NaN</td>\n",
       "      <td>Provence red blend</td>\n",
       "      <td>Domaine de la Bégude</td>\n",
       "    </tr>\n",
       "  </tbody>\n",
       "</table>\n",
       "</div>"
      ],
      "text/plain": [
       "   Unnamed: 0 country                                        description  \\\n",
       "0           0      US  This tremendous 100% varietal wine hails from ...   \n",
       "1           1   Spain  Ripe aromas of fig, blackberry and cassis are ...   \n",
       "2           2      US  Mac Watson honors the memory of a wine once ma...   \n",
       "3           3      US  This spent 20 months in 30% new French oak, an...   \n",
       "4           4  France  This is the top wine from La Bégude, named aft...   \n",
       "\n",
       "                            designation  points  price        province  \\\n",
       "0                     Martha's Vineyard      96  235.0      California   \n",
       "1  Carodorum Selección Especial Reserva      96  110.0  Northern Spain   \n",
       "2         Special Selected Late Harvest      96   90.0      California   \n",
       "3                               Reserve      96   65.0          Oregon   \n",
       "4                            La Brûlade      95   66.0        Provence   \n",
       "\n",
       "            region_1           region_2             variety  \\\n",
       "0        Napa Valley               Napa  Cabernet Sauvignon   \n",
       "1               Toro                NaN       Tinta de Toro   \n",
       "2     Knights Valley             Sonoma     Sauvignon Blanc   \n",
       "3  Willamette Valley  Willamette Valley          Pinot Noir   \n",
       "4             Bandol                NaN  Provence red blend   \n",
       "\n",
       "                    winery  \n",
       "0                    Heitz  \n",
       "1  Bodega Carmen Rodríguez  \n",
       "2                 Macauley  \n",
       "3                    Ponzi  \n",
       "4     Domaine de la Bégude  "
      ]
     },
     "execution_count": 2,
     "metadata": {},
     "output_type": "execute_result"
    }
   ],
   "source": [
    "init_data = pd.read_csv(\"../input/winemag-data_first150k.csv\")\n",
    "print(\"Length of dataframe before duplicates are removed:\", len(init_data))\n",
    "init_data.head()"
   ]
  },
  {
   "cell_type": "markdown",
   "metadata": {
    "_cell_guid": "c2d4aa8a-bbed-4aeb-966b-127fd37faf5e",
    "_uuid": "5fb1efe74dc343a1b192062b375d3c6e6db28496"
   },
   "source": [
    "### Drop Duplicates and NaNs (nulls)\n",
    "I need to drop the duplicates and null values from the data."
   ]
  },
  {
   "cell_type": "code",
   "execution_count": 3,
   "metadata": {
    "_cell_guid": "4b943bb1-3098-443d-a3a8-26a205727873",
    "_uuid": "2f6c1f764e6d93fee8185db630639f539353b757"
   },
   "outputs": [
    {
     "name": "stdout",
     "output_type": "stream",
     "text": [
      "('Length of dataframe after duplicates are removed:', 92393)\n",
      "('Length of dataframe after NaNs are removed:', 92393)\n"
     ]
    },
    {
     "data": {
      "text/html": [
       "<div>\n",
       "<style scoped>\n",
       "    .dataframe tbody tr th:only-of-type {\n",
       "        vertical-align: middle;\n",
       "    }\n",
       "\n",
       "    .dataframe tbody tr th {\n",
       "        vertical-align: top;\n",
       "    }\n",
       "\n",
       "    .dataframe thead th {\n",
       "        text-align: right;\n",
       "    }\n",
       "</style>\n",
       "<table border=\"1\" class=\"dataframe\">\n",
       "  <thead>\n",
       "    <tr style=\"text-align: right;\">\n",
       "      <th></th>\n",
       "      <th>Unnamed: 0</th>\n",
       "      <th>country</th>\n",
       "      <th>description</th>\n",
       "      <th>designation</th>\n",
       "      <th>points</th>\n",
       "      <th>price</th>\n",
       "      <th>province</th>\n",
       "      <th>region_1</th>\n",
       "      <th>region_2</th>\n",
       "      <th>variety</th>\n",
       "      <th>winery</th>\n",
       "    </tr>\n",
       "  </thead>\n",
       "  <tbody>\n",
       "    <tr>\n",
       "      <th>25</th>\n",
       "      <td>25</td>\n",
       "      <td>New Zealand</td>\n",
       "      <td>Yields were down in 2015, but intensity is up,...</td>\n",
       "      <td>Maté's Vineyard</td>\n",
       "      <td>94</td>\n",
       "      <td>57.0</td>\n",
       "      <td>Kumeu</td>\n",
       "      <td>NaN</td>\n",
       "      <td>NaN</td>\n",
       "      <td>Chardonnay</td>\n",
       "      <td>Kumeu River</td>\n",
       "    </tr>\n",
       "    <tr>\n",
       "      <th>29</th>\n",
       "      <td>29</td>\n",
       "      <td>US</td>\n",
       "      <td>This standout Rocks District wine brings earth...</td>\n",
       "      <td>The Funk Estate</td>\n",
       "      <td>94</td>\n",
       "      <td>60.0</td>\n",
       "      <td>Washington</td>\n",
       "      <td>Walla Walla Valley (WA)</td>\n",
       "      <td>Columbia Valley</td>\n",
       "      <td>Syrah</td>\n",
       "      <td>Saviah</td>\n",
       "    </tr>\n",
       "    <tr>\n",
       "      <th>60</th>\n",
       "      <td>60</td>\n",
       "      <td>Argentina</td>\n",
       "      <td>Concentrated, ripe blackberry and cassis aroma...</td>\n",
       "      <td>The Apple Doesn't Fall Far From The Tree</td>\n",
       "      <td>91</td>\n",
       "      <td>30.0</td>\n",
       "      <td>Mendoza Province</td>\n",
       "      <td>Mendoza</td>\n",
       "      <td>NaN</td>\n",
       "      <td>Malbec</td>\n",
       "      <td>Matias Riccitelli</td>\n",
       "    </tr>\n",
       "    <tr>\n",
       "      <th>61</th>\n",
       "      <td>61</td>\n",
       "      <td>Australia</td>\n",
       "      <td>Moorooduc's estate Pinot Noir is a solid value...</td>\n",
       "      <td>NaN</td>\n",
       "      <td>91</td>\n",
       "      <td>36.0</td>\n",
       "      <td>Victoria</td>\n",
       "      <td>Mornington Peninsula</td>\n",
       "      <td>NaN</td>\n",
       "      <td>Pinot Noir</td>\n",
       "      <td>Moorooduc</td>\n",
       "    </tr>\n",
       "    <tr>\n",
       "      <th>62</th>\n",
       "      <td>62</td>\n",
       "      <td>Argentina</td>\n",
       "      <td>Smoky aromas of fresh-cut wood blend with berr...</td>\n",
       "      <td>Alegoría Gran Reserva</td>\n",
       "      <td>91</td>\n",
       "      <td>25.0</td>\n",
       "      <td>Mendoza Province</td>\n",
       "      <td>Mendoza</td>\n",
       "      <td>NaN</td>\n",
       "      <td>Malbec</td>\n",
       "      <td>Navarro Correas</td>\n",
       "    </tr>\n",
       "  </tbody>\n",
       "</table>\n",
       "</div>"
      ],
      "text/plain": [
       "    Unnamed: 0      country  \\\n",
       "25          25  New Zealand   \n",
       "29          29           US   \n",
       "60          60    Argentina   \n",
       "61          61    Australia   \n",
       "62          62    Argentina   \n",
       "\n",
       "                                          description  \\\n",
       "25  Yields were down in 2015, but intensity is up,...   \n",
       "29  This standout Rocks District wine brings earth...   \n",
       "60  Concentrated, ripe blackberry and cassis aroma...   \n",
       "61  Moorooduc's estate Pinot Noir is a solid value...   \n",
       "62  Smoky aromas of fresh-cut wood blend with berr...   \n",
       "\n",
       "                                 designation  points  price          province  \\\n",
       "25                           Maté's Vineyard      94   57.0             Kumeu   \n",
       "29                           The Funk Estate      94   60.0        Washington   \n",
       "60  The Apple Doesn't Fall Far From The Tree      91   30.0  Mendoza Province   \n",
       "61                                       NaN      91   36.0          Victoria   \n",
       "62                     Alegoría Gran Reserva      91   25.0  Mendoza Province   \n",
       "\n",
       "                   region_1         region_2     variety             winery  \n",
       "25                      NaN              NaN  Chardonnay        Kumeu River  \n",
       "29  Walla Walla Valley (WA)  Columbia Valley       Syrah             Saviah  \n",
       "60                  Mendoza              NaN      Malbec  Matias Riccitelli  \n",
       "61     Mornington Peninsula              NaN  Pinot Noir          Moorooduc  \n",
       "62                  Mendoza              NaN      Malbec    Navarro Correas  "
      ]
     },
     "execution_count": 3,
     "metadata": {},
     "output_type": "execute_result"
    }
   ],
   "source": [
    "parsed_data = init_data[init_data.duplicated('description', keep=False)]\n",
    "print(\"Length of dataframe after duplicates are removed:\", len(parsed_data))\n",
    "\n",
    "parsed_data.dropna(subset=['description', 'points'])\n",
    "print(\"Length of dataframe after NaNs are removed:\", len(parsed_data))\n",
    "\n",
    "parsed_data.head()"
   ]
  },
  {
   "cell_type": "markdown",
   "metadata": {
    "_cell_guid": "b2b34b84-2006-499c-8081-2f527ecb78e4",
    "_uuid": "87dbd75b0db5bccd4be03247d6c16f4b905761b6"
   },
   "source": [
    "## First Data Look\n",
    "\n",
    "Let's take a look at our data \"description\" vs \"points\":"
   ]
  },
  {
   "cell_type": "code",
   "execution_count": 4,
   "metadata": {
    "_cell_guid": "bf10fc75-4285-4367-a346-67ed37831e1b",
    "_uuid": "445031c16d44edfc033d155f02679deed068b8b1"
   },
   "outputs": [
    {
     "name": "stdout",
     "output_type": "stream",
     "text": [
      "<class 'pandas.core.frame.DataFrame'>\n",
      "Int64Index: 92393 entries, 25 to 150929\n",
      "Data columns (total 2 columns):\n",
      "description    92393 non-null object\n",
      "points         92393 non-null int64\n",
      "dtypes: int64(1), object(1)\n",
      "memory usage: 2.1+ MB\n"
     ]
    },
    {
     "data": {
      "text/html": [
       "<div>\n",
       "<style scoped>\n",
       "    .dataframe tbody tr th:only-of-type {\n",
       "        vertical-align: middle;\n",
       "    }\n",
       "\n",
       "    .dataframe tbody tr th {\n",
       "        vertical-align: top;\n",
       "    }\n",
       "\n",
       "    .dataframe thead th {\n",
       "        text-align: right;\n",
       "    }\n",
       "</style>\n",
       "<table border=\"1\" class=\"dataframe\">\n",
       "  <thead>\n",
       "    <tr style=\"text-align: right;\">\n",
       "      <th></th>\n",
       "      <th>description</th>\n",
       "      <th>points</th>\n",
       "    </tr>\n",
       "  </thead>\n",
       "  <tbody>\n",
       "    <tr>\n",
       "      <th>25</th>\n",
       "      <td>Yields were down in 2015, but intensity is up,...</td>\n",
       "      <td>94</td>\n",
       "    </tr>\n",
       "    <tr>\n",
       "      <th>29</th>\n",
       "      <td>This standout Rocks District wine brings earth...</td>\n",
       "      <td>94</td>\n",
       "    </tr>\n",
       "    <tr>\n",
       "      <th>60</th>\n",
       "      <td>Concentrated, ripe blackberry and cassis aroma...</td>\n",
       "      <td>91</td>\n",
       "    </tr>\n",
       "    <tr>\n",
       "      <th>61</th>\n",
       "      <td>Moorooduc's estate Pinot Noir is a solid value...</td>\n",
       "      <td>91</td>\n",
       "    </tr>\n",
       "    <tr>\n",
       "      <th>62</th>\n",
       "      <td>Smoky aromas of fresh-cut wood blend with berr...</td>\n",
       "      <td>91</td>\n",
       "    </tr>\n",
       "  </tbody>\n",
       "</table>\n",
       "</div>"
      ],
      "text/plain": [
       "                                          description  points\n",
       "25  Yields were down in 2015, but intensity is up,...      94\n",
       "29  This standout Rocks District wine brings earth...      94\n",
       "60  Concentrated, ripe blackberry and cassis aroma...      91\n",
       "61  Moorooduc's estate Pinot Noir is a solid value...      91\n",
       "62  Smoky aromas of fresh-cut wood blend with berr...      91"
      ]
     },
     "execution_count": 4,
     "metadata": {},
     "output_type": "execute_result"
    }
   ],
   "source": [
    "dp = parsed_data[['description','points']]\n",
    "dp.info()\n",
    "dp.head()"
   ]
  },
  {
   "cell_type": "markdown",
   "metadata": {
    "_uuid": "fe39b19430563890e8719fea7cc218e1a66f582a"
   },
   "source": [
    "How many wines per points?\n",
    "That's basically the distribution of our data model"
   ]
  },
  {
   "cell_type": "code",
   "execution_count": 5,
   "metadata": {
    "_uuid": "20c4f3912631eb1e1235897d93eddb0a8350896c",
    "scrolled": false
   },
   "outputs": [
    {
     "data": {
      "text/plain": [
       "<matplotlib.axes._subplots.AxesSubplot at 0x10327e410>"
      ]
     },
     "execution_count": 5,
     "metadata": {},
     "output_type": "execute_result"
    },
    {
     "data": {
      "image/png": "[encoded data removed]",
      "text/plain": [
       "<Figure size 2160x720 with 1 Axes>"
      ]
     },
     "metadata": {},
     "output_type": "display_data"
    }
   ],
   "source": [
    "fig, ax = plt.subplots(figsize=(30,10))\n",
    "plt.xticks(fontsize=20) # X Ticks\n",
    "plt.yticks(fontsize=20) # Y Ticks\n",
    "ax.set_title('Number of wines per points', fontweight=\"bold\", size=25) # Title\n",
    "ax.set_ylabel('Number of wines', fontsize = 25) # Y label\n",
    "ax.set_xlabel('Points', fontsize = 25) # X label\n",
    "dp.groupby(['points']).count()['description'].plot(ax=ax, kind='bar')"
   ]
  },
  {
   "cell_type": "markdown",
   "metadata": {
    "_uuid": "5a16d085b66170ac1e580c94c0266d2a5263e12f"
   },
   "source": [
    "**Conclusion:** \n",
    "\n",
    "A lot of wines from 83 to 93 points. Which also matches the market (not a lot of really good wines). If we wanted a better model, we could try to scrape more wine reviews based on points to flatten this."
   ]
  },
  {
   "cell_type": "markdown",
   "metadata": {
    "_cell_guid": "cb80134b-3576-4e34-9733-f0222cf82cc2",
    "_uuid": "1b2bb3a30e1a27cffaf66a29a5fbc879ac386aab"
   },
   "source": [
    "## Taking a look at Description length vs points"
   ]
  },
  {
   "cell_type": "code",
   "execution_count": 6,
   "metadata": {
    "_cell_guid": "da1137b4-2ee2-49d7-8021-99be3d752e42",
    "_uuid": "62c61f69924139c79057a24c4f340da93fc425f0"
   },
   "outputs": [
    {
     "name": "stdout",
     "output_type": "stream",
     "text": [
      "<class 'pandas.core.frame.DataFrame'>\n",
      "Int64Index: 92393 entries, 25 to 150929\n",
      "Data columns (total 3 columns):\n",
      "description           92393 non-null object\n",
      "points                92393 non-null int64\n",
      "description_length    92393 non-null int64\n",
      "dtypes: int64(2), object(1)\n",
      "memory usage: 2.8+ MB\n"
     ]
    },
    {
     "data": {
      "text/html": [
       "<div>\n",
       "<style scoped>\n",
       "    .dataframe tbody tr th:only-of-type {\n",
       "        vertical-align: middle;\n",
       "    }\n",
       "\n",
       "    .dataframe tbody tr th {\n",
       "        vertical-align: top;\n",
       "    }\n",
       "\n",
       "    .dataframe thead th {\n",
       "        text-align: right;\n",
       "    }\n",
       "</style>\n",
       "<table border=\"1\" class=\"dataframe\">\n",
       "  <thead>\n",
       "    <tr style=\"text-align: right;\">\n",
       "      <th></th>\n",
       "      <th>description</th>\n",
       "      <th>points</th>\n",
       "      <th>description_length</th>\n",
       "    </tr>\n",
       "  </thead>\n",
       "  <tbody>\n",
       "    <tr>\n",
       "      <th>25</th>\n",
       "      <td>Yields were down in 2015, but intensity is up,...</td>\n",
       "      <td>94</td>\n",
       "      <td>215</td>\n",
       "    </tr>\n",
       "    <tr>\n",
       "      <th>29</th>\n",
       "      <td>This standout Rocks District wine brings earth...</td>\n",
       "      <td>94</td>\n",
       "      <td>333</td>\n",
       "    </tr>\n",
       "    <tr>\n",
       "      <th>60</th>\n",
       "      <td>Concentrated, ripe blackberry and cassis aroma...</td>\n",
       "      <td>91</td>\n",
       "      <td>242</td>\n",
       "    </tr>\n",
       "    <tr>\n",
       "      <th>61</th>\n",
       "      <td>Moorooduc's estate Pinot Noir is a solid value...</td>\n",
       "      <td>91</td>\n",
       "      <td>315</td>\n",
       "    </tr>\n",
       "    <tr>\n",
       "      <th>62</th>\n",
       "      <td>Smoky aromas of fresh-cut wood blend with berr...</td>\n",
       "      <td>91</td>\n",
       "      <td>229</td>\n",
       "    </tr>\n",
       "  </tbody>\n",
       "</table>\n",
       "</div>"
      ],
      "text/plain": [
       "                                          description  points  \\\n",
       "25  Yields were down in 2015, but intensity is up,...      94   \n",
       "29  This standout Rocks District wine brings earth...      94   \n",
       "60  Concentrated, ripe blackberry and cassis aroma...      91   \n",
       "61  Moorooduc's estate Pinot Noir is a solid value...      91   \n",
       "62  Smoky aromas of fresh-cut wood blend with berr...      91   \n",
       "\n",
       "    description_length  \n",
       "25                 215  \n",
       "29                 333  \n",
       "60                 242  \n",
       "61                 315  \n",
       "62                 229  "
      ]
     },
     "execution_count": 6,
     "metadata": {},
     "output_type": "execute_result"
    }
   ],
   "source": [
    "dp = dp.assign(description_length = dp['description'].apply(len))\n",
    "dp.info()\n",
    "dp.head()"
   ]
  },
  {
   "cell_type": "code",
   "execution_count": 7,
   "metadata": {
    "_cell_guid": "3038e284-d9cd-498a-ab31-3864fec02ef6",
    "_uuid": "2d38b3af011fb7813080826c028aa0cc4e50d6c5"
   },
   "outputs": [
    {
     "data": {
      "image/png": "[encoded data removed]",
      "text/plain": [
       "<Figure size 2160x720 with 1 Axes>"
      ]
     },
     "metadata": {},
     "output_type": "display_data"
    }
   ],
   "source": [
    "fig, ax = plt.subplots(figsize=(30,10))\n",
    "sns.boxplot(x='points', y='description_length', data=dp)\n",
    "plt.xticks(fontsize=20) # X Ticks\n",
    "plt.yticks(fontsize=20) # Y Ticks\n",
    "ax.set_title('Description Length per Points', fontweight=\"bold\", size=25) # Title\n",
    "ax.set_ylabel('Description Length', fontsize = 25) # Y label\n",
    "ax.set_xlabel('Points', fontsize = 25) # X label\n",
    "plt.show()"
   ]
  },
  {
   "cell_type": "markdown",
   "metadata": {
    "_cell_guid": "223961dd-ba69-4de1-8135-d316dcb48ce1",
    "_uuid": "ccff5d3b047dab7056e05e5f17c616d8c852d8bc"
   },
   "source": [
    "## Simplifying the model\n",
    "\n",
    "Having too many different possibility for \"points\" would burden our model.\n",
    "A 90 points wine is not that different from a 91 points wine, the description is probably not that different also. We can this throughout the descriptions' length as well.\n",
    "\n",
    "Let's try to simplify the model with 5 different values:\n",
    "\n",
    "1 -> Points 80 to 84 (Under Average wines)\n",
    "\n",
    "2 -> Points 84 to 88 (Average wines)\n",
    "\n",
    "3 -> Points 88 to 92 (Good wines)\n",
    "\n",
    "4 -> Points 92 to 96 (Very Good wines)\n",
    "\n",
    "5 -> Points 96 to 100 (Excellent wines)"
   ]
  },
  {
   "cell_type": "code",
   "execution_count": 8,
   "metadata": {
    "_cell_guid": "964b432d-bfd7-406b-9fc7-242e77bd4a5e",
    "_uuid": "812362e2c567845517284a14c929a63ac5be4c70",
    "scrolled": true
   },
   "outputs": [
    {
     "data": {
      "text/html": [
       "<div>\n",
       "<style scoped>\n",
       "    .dataframe tbody tr th:only-of-type {\n",
       "        vertical-align: middle;\n",
       "    }\n",
       "\n",
       "    .dataframe tbody tr th {\n",
       "        vertical-align: top;\n",
       "    }\n",
       "\n",
       "    .dataframe thead th {\n",
       "        text-align: right;\n",
       "    }\n",
       "</style>\n",
       "<table border=\"1\" class=\"dataframe\">\n",
       "  <thead>\n",
       "    <tr style=\"text-align: right;\">\n",
       "      <th></th>\n",
       "      <th>description</th>\n",
       "      <th>points</th>\n",
       "      <th>description_length</th>\n",
       "      <th>points_simplified</th>\n",
       "    </tr>\n",
       "  </thead>\n",
       "  <tbody>\n",
       "    <tr>\n",
       "      <th>25</th>\n",
       "      <td>Yields were down in 2015, but intensity is up,...</td>\n",
       "      <td>94</td>\n",
       "      <td>215</td>\n",
       "      <td>4</td>\n",
       "    </tr>\n",
       "    <tr>\n",
       "      <th>29</th>\n",
       "      <td>This standout Rocks District wine brings earth...</td>\n",
       "      <td>94</td>\n",
       "      <td>333</td>\n",
       "      <td>4</td>\n",
       "    </tr>\n",
       "    <tr>\n",
       "      <th>60</th>\n",
       "      <td>Concentrated, ripe blackberry and cassis aroma...</td>\n",
       "      <td>91</td>\n",
       "      <td>242</td>\n",
       "      <td>3</td>\n",
       "    </tr>\n",
       "    <tr>\n",
       "      <th>61</th>\n",
       "      <td>Moorooduc's estate Pinot Noir is a solid value...</td>\n",
       "      <td>91</td>\n",
       "      <td>315</td>\n",
       "      <td>3</td>\n",
       "    </tr>\n",
       "    <tr>\n",
       "      <th>62</th>\n",
       "      <td>Smoky aromas of fresh-cut wood blend with berr...</td>\n",
       "      <td>91</td>\n",
       "      <td>229</td>\n",
       "      <td>3</td>\n",
       "    </tr>\n",
       "  </tbody>\n",
       "</table>\n",
       "</div>"
      ],
      "text/plain": [
       "                                          description  points  \\\n",
       "25  Yields were down in 2015, but intensity is up,...      94   \n",
       "29  This standout Rocks District wine brings earth...      94   \n",
       "60  Concentrated, ripe blackberry and cassis aroma...      91   \n",
       "61  Moorooduc's estate Pinot Noir is a solid value...      91   \n",
       "62  Smoky aromas of fresh-cut wood blend with berr...      91   \n",
       "\n",
       "    description_length  points_simplified  \n",
       "25                 215                  4  \n",
       "29                 333                  4  \n",
       "60                 242                  3  \n",
       "61                 315                  3  \n",
       "62                 229                  3  "
      ]
     },
     "execution_count": 8,
     "metadata": {},
     "output_type": "execute_result"
    }
   ],
   "source": [
    "#Transform method taking points as param\n",
    "def transform_points_simplified(points):\n",
    "    if points < 84:\n",
    "        return 1\n",
    "    elif points >= 84 and points < 88:\n",
    "        return 2 \n",
    "    elif points >= 88 and points < 92:\n",
    "        return 3 \n",
    "    elif points >= 92 and points < 96:\n",
    "        return 4 \n",
    "    else:\n",
    "        return 5\n",
    "\n",
    "#Applying transform method and assigning result to new column \"points_simplified\"\n",
    "dp = dp.assign(points_simplified = dp['points'].apply(transform_points_simplified))\n",
    "dp.head()"
   ]
  },
  {
   "cell_type": "markdown",
   "metadata": {
    "_uuid": "717cf56b19a659d0ab434fb5704d4f30f4c97b33"
   },
   "source": [
    "How many wines per simplified points?\n",
    "That's the new distribution of our data model"
   ]
  },
  {
   "cell_type": "code",
   "execution_count": 9,
   "metadata": {
    "_uuid": "f1b3748e388f1ea6615bd0d7c3c26b737bcd1cc2"
   },
   "outputs": [
    {
     "data": {
      "text/plain": [
       "<matplotlib.axes._subplots.AxesSubplot at 0x10c5ce450>"
      ]
     },
     "execution_count": 9,
     "metadata": {},
     "output_type": "execute_result"
    },
    {
     "data": {
      "image/png": "[encoded data removed]",
      "text/plain": [
       "<Figure size 2160x720 with 1 Axes>"
      ]
     },
     "metadata": {},
     "output_type": "display_data"
    }
   ],
   "source": [
    "fig, ax = plt.subplots(figsize=(30,10))\n",
    "plt.xticks(fontsize=20) # X Ticks\n",
    "plt.yticks(fontsize=20) # Y Ticks\n",
    "ax.set_title('Number of wines per points', fontweight=\"bold\", size=25) # Title\n",
    "ax.set_ylabel('Number of wines', fontsize = 25) # Y label\n",
    "ax.set_xlabel('Points', fontsize = 25) # X label\n",
    "dp.groupby(['points_simplified']).count()['description'].plot(ax=ax, kind='bar')"
   ]
  },
  {
   "cell_type": "code",
   "execution_count": 10,
   "metadata": {
    "_cell_guid": "10f124a3-aa78-4d82-8f93-4946acca98e9",
    "_uuid": "8464ae54db22eb41481a3a8bbd68bafef0c4c6e5"
   },
   "outputs": [
    {
     "data": {
      "image/png": "[encoded data removed]",
      "text/plain": [
       "<Figure size 2160x720 with 1 Axes>"
      ]
     },
     "metadata": {},
     "output_type": "display_data"
    }
   ],
   "source": [
    "fig, ax = plt.subplots(figsize=(30,10))\n",
    "sns.boxplot(x='points_simplified', y='description_length', data=dp)\n",
    "plt.xticks(fontsize=20) # X Ticks\n",
    "plt.yticks(fontsize=20) # Y Ticks\n",
    "ax.set_title('Description Length per Points', fontweight=\"bold\", size=25) # Title\n",
    "ax.set_ylabel('Description Length', fontsize = 25) # Y label\n",
    "ax.set_xlabel('Points', fontsize = 25) # X label\n",
    "plt.show()"
   ]
  },
  {
   "cell_type": "markdown",
   "metadata": {
    "_cell_guid": "eecca88e-617c-4f1d-9ee2-810eae27bd35",
    "_uuid": "ee9f86c916c0f27c526552820aa2d68ca4e3233b"
   },
   "source": [
    "## Description Vectorization\n",
    "\n",
    "Let's see what CountVectorizer output on this collection"
   ]
  },
  {
   "cell_type": "code",
   "execution_count": 11,
   "metadata": {
    "_cell_guid": "c68332d7-74ff-4c45-80b6-a3c7c09a25e6",
    "_uuid": "b4dfdd666e3ad295e66d3452ac3e68e33c09f5bd",
    "scrolled": false
   },
   "outputs": [
    {
     "data": {
      "text/plain": [
       "CountVectorizer(analyzer=u'word', binary=False, decode_error=u'strict',\n",
       "        dtype=<type 'numpy.int64'>, encoding=u'utf-8', input=u'content',\n",
       "        lowercase=True, max_df=1.0, max_features=None, min_df=1,\n",
       "        ngram_range=(1, 1), preprocessor=None, stop_words=None,\n",
       "        strip_accents=None, token_pattern=u'(?u)\\\\b\\\\w\\\\w+\\\\b',\n",
       "        tokenizer=None, vocabulary=None)"
      ]
     },
     "execution_count": 11,
     "metadata": {},
     "output_type": "execute_result"
    }
   ],
   "source": [
    "X = dp['description']\n",
    "y = dp['points_simplified']\n",
    "\n",
    "vectorizer = CountVectorizer()\n",
    "vectorizer.fit(X)\n",
    "#print(vectorizer.vocabulary_)"
   ]
  },
  {
   "cell_type": "markdown",
   "metadata": {
    "_cell_guid": "a4d0a045-4545-45bc-81c3-692196fa4d9e",
    "_uuid": "75858c33dcf2abafdb92ecfecc8c57cc4ed0b315"
   },
   "source": [
    "Let's vectorize X based on the trained data."
   ]
  },
  {
   "cell_type": "code",
   "execution_count": 12,
   "metadata": {
    "_cell_guid": "c7567047-93b7-4788-8a8d-086b8acbfdab",
    "_uuid": "75d232a123e68091895f943a9c621bbdcce383ac"
   },
   "outputs": [
    {
     "name": "stdout",
     "output_type": "stream",
     "text": [
      "('Shape of Sparse Matrix: ', (92393, 21400))\n",
      "('Amount of Non-Zero occurrences: ', 3172240)\n",
      "Density: 0.160440200035\n"
     ]
    }
   ],
   "source": [
    "X = vectorizer.transform(X)\n",
    "print('Shape of Sparse Matrix: ', X.shape)\n",
    "print('Amount of Non-Zero occurrences: ', X.nnz)\n",
    "# Percentage of non-zero values\n",
    "density = (100.0 * X.nnz / (X.shape[0] * X.shape[1]))\n",
    "print('Density: {}'.format((density)))"
   ]
  },
  {
   "cell_type": "markdown",
   "metadata": {
    "_cell_guid": "dd6ec46f-39e1-4f75-ada1-3f467c4c66df",
    "_uuid": "f2da4595af0212cfbd50627e7c41023320f9d8c6",
    "collapsed": true
   },
   "source": [
    "## Training data and test data\n",
    "\n",
    "90% of the dataset will be used for training. 10% of the dataset will be used for testing."
   ]
  },
  {
   "cell_type": "code",
   "execution_count": 13,
   "metadata": {
    "_cell_guid": "c45f166c-764f-46a6-ba02-ab61d88889a1",
    "_uuid": "05ffb1af300b548e3a76b9d7635f20856c6ebb7f"
   },
   "outputs": [
    {
     "name": "stdout",
     "output_type": "stream",
     "text": [
      "             precision    recall  f1-score   support\n",
      "\n",
      "          1       0.97      0.94      0.96       763\n",
      "          2       0.96      0.98      0.97      3830\n",
      "          3       0.97      0.96      0.97      3418\n",
      "          4       0.99      0.94      0.97      1135\n",
      "          5       1.00      0.88      0.94        94\n",
      "\n",
      "avg / total       0.97      0.97      0.97      9240\n",
      "\n"
     ]
    }
   ],
   "source": [
    "# Training the model\n",
    "X_train, X_test, y_train, y_test = train_test_split(X, y, test_size=0.1, random_state=101)\n",
    "rfc = RandomForestClassifier()\n",
    "rfc.fit(X_train, y_train)\n",
    "\n",
    "# Testing the model\n",
    "predictions = rfc.predict(X_test)\n",
    "print(classification_report(y_test, predictions))"
   ]
  },
  {
   "cell_type": "markdown",
   "metadata": {
    "_cell_guid": "765b08ef-2693-4d0f-9288-07bba8e15cb1",
    "_uuid": "f3877499ed3741f7765fca58c672c76a4dbb7e91"
   },
   "source": [
    "## Result With CountVectorizer: 97% precision, recall and f1\n",
    "It's super good!\n",
    "\n",
    "Multiple hypothesis to improve this model: \n",
    "1. We could try a different vectorizer (TfidfVectorizer for example)\n",
    "2. We could try cleaning the dataset using stopwords\n",
    "3. We could add other metrics like price, description length etc... to our model"
   ]
  },
  {
   "cell_type": "markdown",
   "metadata": {
    "_cell_guid": "cb00ec7d-47db-4eb4-85d3-c967bcb486d4",
    "_uuid": "6f74f5678db78cf3aab5bc761cb6861d26c08195"
   },
   "source": [
    "## Trying TfidfVectorizer\n",
    "\n",
    "TfidfVectorizer has some advantages over the simpler CountVectorizer.\n",
    "\n",
    "CountVectorizer just counts the word frequencies. That's all.\n",
    "\n",
    "With TfidfVectorizer the value increases proportionally to count, but is offset by the frequency of the word in the total corpus. This is called the IDF (inverse document frequency part).\n",
    "This allow the Vectorizer to adjust with frequent words like \"the\", \"a\" etc..."
   ]
  },
  {
   "cell_type": "code",
   "execution_count": 14,
   "metadata": {
    "_cell_guid": "587a2819-d27f-4ff5-a0b1-906abb9564a9",
    "_uuid": "7af813051c8e74ddc529f4672059344286e36c39",
    "scrolled": true
   },
   "outputs": [],
   "source": [
    "X = dp['description']\n",
    "y = dp['points_simplified']\n",
    "\n",
    "# Vectorizing model\n",
    "vectorizer = TfidfVectorizer()\n",
    "vectorizer.fit(X)\n",
    "X = vectorizer.transform(X)"
   ]
  },
  {
   "cell_type": "code",
   "execution_count": 15,
   "metadata": {
    "_uuid": "e4f3013f3c0ecff76f212c147e3102053d2b79c0"
   },
   "outputs": [
    {
     "name": "stdout",
     "output_type": "stream",
     "text": [
      "             precision    recall  f1-score   support\n",
      "\n",
      "          1       0.99      0.94      0.97       763\n",
      "          2       0.97      0.98      0.97      3830\n",
      "          3       0.96      0.98      0.97      3418\n",
      "          4       0.99      0.93      0.96      1135\n",
      "          5       1.00      0.96      0.98        94\n",
      "\n",
      "avg / total       0.97      0.97      0.97      9240\n",
      "\n"
     ]
    }
   ],
   "source": [
    "# Training model\n",
    "X_train, X_test, y_train, y_test = train_test_split(X, y, test_size=0.1, random_state=101)\n",
    "rfc = RandomForestClassifier()\n",
    "rfc.fit(X_train, y_train)\n",
    "\n",
    "# Testing model\n",
    "predictions = rfc.predict(X_test)\n",
    "print(classification_report(y_test, predictions))"
   ]
  },
  {
   "cell_type": "markdown",
   "metadata": {
    "_cell_guid": "a586b272-0948-4504-bbdd-2a12ce50f3ae",
    "_uuid": "357f8b946f99e532847d4abe031b9d52046615df"
   },
   "source": [
    "## Results with TfidfVectorizer: 97% precision, recall and f1\n",
    "Slightly better precisions for some buckets. TfidfVectorizer might also be more performant with larger volumes of data, knowing how the algorithm works.\n",
    "\n",
    "# Conclusion\n",
    "The CountVectorizer/TfidfVectorizer and RandomForestClassifier looks like a great combinaison to analyze wine ratings on our dataset!"
   ]
  }
 ],
 "metadata": {
  "kernelspec": {
   "display_name": "Python 2",
   "language": "python",
   "name": "python2"
  },
  "language_info": {
   "codemirror_mode": {
    "name": "ipython",
    "version": 2
   },
   "file_extension": ".py",
   "mimetype": "text/x-python",
   "name": "python",
   "nbconvert_exporter": "python",
   "pygments_lexer": "ipython2",
   "version": "2.7.14"
  }
 },
 "nbformat": 4,
 "nbformat_minor": 1
}
